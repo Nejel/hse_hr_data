{
 "cells": [
  {
   "cell_type": "markdown",
   "id": "moved-equity",
   "metadata": {},
   "source": [
    "# ETL example"
   ]
  },
  {
   "cell_type": "code",
   "execution_count": 7,
   "id": "ahead-qualification",
   "metadata": {},
   "outputs": [],
   "source": [
    "import sqlite3\n",
    "import pandas as pd"
   ]
  },
  {
   "cell_type": "code",
   "execution_count": 14,
   "id": "moderate-fighter",
   "metadata": {},
   "outputs": [],
   "source": [
    "# Создаем коннектор к файлу нашей базы данных. \n",
    "# Само собой, файлик Базы Данных должен лежать рядом с файлом блокнота (который вы сейчас читаете). \n",
    "con = sqlite3.connect('DBname_hr.db')"
   ]
  },
  {
   "cell_type": "code",
   "execution_count": 15,
   "id": "meaningful-rolling",
   "metadata": {},
   "outputs": [],
   "source": [
    "# Движок СУБД не знает заранее какой объем данных вы будете хранить. \n",
    "# Поэтому для доступа к ним он использует \"курсор\" - некую сущность, которая двигается по таблице.\n",
    "# Можно представить его в виде скользящего по таблице окна. \n",
    "# Перед началом работы его надо инициализировать\n",
    "\n",
    "cur = con.cursor()"
   ]
  },
  {
   "cell_type": "code",
   "execution_count": 16,
   "id": "visible-directive",
   "metadata": {},
   "outputs": [
    {
     "data": {
      "text/plain": [
       "[]"
      ]
     },
     "execution_count": 16,
     "metadata": {},
     "output_type": "execute_result"
    }
   ],
   "source": [
    "# Создаем таблицу\n",
    "\n",
    "cur.execute(\"\"\"CREATE TABLE IF NOT EXISTS employees (\n",
    "                contact_id INTEGER PRIMARY KEY,\n",
    "                first_name TEXT NOT NULL,\n",
    "                last_name TEXT NOT NULL,\n",
    "                email TEXT NOT NULL UNIQUE,\n",
    "                phone TEXT\n",
    "                                        );\"\"\").fetchall()"
   ]
  },
  {
   "cell_type": "code",
   "execution_count": 17,
   "id": "grateful-exhaust",
   "metadata": {},
   "outputs": [],
   "source": [
    "# При необходимости можно жестко удалить таблицу целиоком вместе с данными и структурой \n",
    "# cur.execute(\"\"\"DROP TABLE employees ;\"\"\").fetchall()"
   ]
  },
  {
   "cell_type": "code",
   "execution_count": 18,
   "id": "casual-acquisition",
   "metadata": {},
   "outputs": [
    {
     "data": {
      "text/plain": [
       "[]"
      ]
     },
     "execution_count": 18,
     "metadata": {},
     "output_type": "execute_result"
    }
   ],
   "source": [
    "cur.execute(\"\"\"INSERT INTO employees (contact_id, first_name, last_name, email)\n",
    "                        VALUES\n",
    "                        (1, 'Bud', 'Powell', 'test@test.ru'), \n",
    "                        (2, 'Jan', 'Tax', 'test1@test.ru'),\n",
    "                        (3, 'Max', 'Roberts', 'test2@test.ru'),\n",
    "                        (4, 'Jannet', 'Wood', 'test3@test.ru')\n",
    "                        ;\"\"\").fetchall()"
   ]
  },
  {
   "cell_type": "code",
   "execution_count": 19,
   "id": "peaceful-intent",
   "metadata": {},
   "outputs": [
    {
     "data": {
      "text/plain": [
       "[]"
      ]
     },
     "execution_count": 19,
     "metadata": {},
     "output_type": "execute_result"
    }
   ],
   "source": [
    "cur.execute(\"\"\"INSERT INTO employees (contact_id, first_name, last_name, email)\n",
    "                        VALUES\n",
    "                        (5, 'Anjela', 'Rowell', 'test6@test.ru')\n",
    "                        ;\"\"\").fetchall()"
   ]
  },
  {
   "cell_type": "code",
   "execution_count": 20,
   "id": "ceramic-surge",
   "metadata": {},
   "outputs": [
    {
     "data": {
      "text/plain": [
       "[(1, 'Bud', 'Powell', 'test@test.ru', None),\n",
       " (2, 'Jan', 'Tax', 'test1@test.ru', None),\n",
       " (3, 'Max', 'Roberts', 'test2@test.ru', None),\n",
       " (4, 'Jannet', 'Wood', 'test3@test.ru', None),\n",
       " (5, 'Anjela', 'Rowell', 'test6@test.ru', None)]"
      ]
     },
     "execution_count": 20,
     "metadata": {},
     "output_type": "execute_result"
    }
   ],
   "source": [
    "# Здесь Python передает предложение SELECT в СУБД (в данном случае это библиотечка sqlite3) и выполняет его, а возвращает набор данных из таблицы (результат работы SELECT)\n",
    "\n",
    "cur.execute('SELECT * FROM employees').fetchall()"
   ]
  },
  {
   "cell_type": "code",
   "execution_count": 21,
   "id": "worldwide-austin",
   "metadata": {},
   "outputs": [],
   "source": [
    "result = pd.DataFrame(data=cur.execute('SELECT * FROM employees').fetchall())"
   ]
  },
  {
   "cell_type": "code",
   "execution_count": 22,
   "id": "sublime-dylan",
   "metadata": {},
   "outputs": [
    {
     "data": {
      "text/html": [
       "<div>\n",
       "<style scoped>\n",
       "    .dataframe tbody tr th:only-of-type {\n",
       "        vertical-align: middle;\n",
       "    }\n",
       "\n",
       "    .dataframe tbody tr th {\n",
       "        vertical-align: top;\n",
       "    }\n",
       "\n",
       "    .dataframe thead th {\n",
       "        text-align: right;\n",
       "    }\n",
       "</style>\n",
       "<table border=\"1\" class=\"dataframe\">\n",
       "  <thead>\n",
       "    <tr style=\"text-align: right;\">\n",
       "      <th></th>\n",
       "      <th>0</th>\n",
       "      <th>1</th>\n",
       "      <th>2</th>\n",
       "      <th>3</th>\n",
       "      <th>4</th>\n",
       "    </tr>\n",
       "  </thead>\n",
       "  <tbody>\n",
       "    <tr>\n",
       "      <th>0</th>\n",
       "      <td>1</td>\n",
       "      <td>Bud</td>\n",
       "      <td>Powell</td>\n",
       "      <td>test@test.ru</td>\n",
       "      <td>None</td>\n",
       "    </tr>\n",
       "    <tr>\n",
       "      <th>1</th>\n",
       "      <td>2</td>\n",
       "      <td>Jan</td>\n",
       "      <td>Tax</td>\n",
       "      <td>test1@test.ru</td>\n",
       "      <td>None</td>\n",
       "    </tr>\n",
       "    <tr>\n",
       "      <th>2</th>\n",
       "      <td>3</td>\n",
       "      <td>Max</td>\n",
       "      <td>Roberts</td>\n",
       "      <td>test2@test.ru</td>\n",
       "      <td>None</td>\n",
       "    </tr>\n",
       "    <tr>\n",
       "      <th>3</th>\n",
       "      <td>4</td>\n",
       "      <td>Jannet</td>\n",
       "      <td>Wood</td>\n",
       "      <td>test3@test.ru</td>\n",
       "      <td>None</td>\n",
       "    </tr>\n",
       "    <tr>\n",
       "      <th>4</th>\n",
       "      <td>5</td>\n",
       "      <td>Anjela</td>\n",
       "      <td>Rowell</td>\n",
       "      <td>test6@test.ru</td>\n",
       "      <td>None</td>\n",
       "    </tr>\n",
       "  </tbody>\n",
       "</table>\n",
       "</div>"
      ],
      "text/plain": [
       "   0       1        2              3     4\n",
       "0  1     Bud   Powell   test@test.ru  None\n",
       "1  2     Jan      Tax  test1@test.ru  None\n",
       "2  3     Max  Roberts  test2@test.ru  None\n",
       "3  4  Jannet     Wood  test3@test.ru  None\n",
       "4  5  Anjela   Rowell  test6@test.ru  None"
      ]
     },
     "execution_count": 22,
     "metadata": {},
     "output_type": "execute_result"
    }
   ],
   "source": [
    "result.head()"
   ]
  },
  {
   "cell_type": "code",
   "execution_count": 23,
   "id": "dated-rolling",
   "metadata": {},
   "outputs": [],
   "source": [
    "# from datetime import datetime, timedelta\n",
    "import httplib2\n",
    "\n",
    "from oauth2client.service_account import ServiceAccountCredentials\n",
    "import apiclient.discovery\n",
    "\n",
    "# CREDENTIALS TO SERVICE ACC\n",
    "CREDSTOSERVICE = 'credentials.json'"
   ]
  },
  {
   "cell_type": "code",
   "execution_count": 24,
   "id": "detected-trace",
   "metadata": {},
   "outputs": [],
   "source": [
    "spreadsheet_id = '1BIJukq0TZt0RBi5JvjR3WGk3To1T-uZ3s3gNgfsydog'"
   ]
  },
  {
   "cell_type": "code",
   "execution_count": 25,
   "id": "burning-lindsay",
   "metadata": {},
   "outputs": [],
   "source": [
    "class Reporting:\n",
    "\n",
    "    def __init__(self):\n",
    "        pass\n",
    "\n",
    "    def auth(self):\n",
    "        credentials = ServiceAccountCredentials.from_json_keyfile_name(\n",
    "            CREDSTOSERVICE,\n",
    "            ['https://www.googleapis.com/auth/spreadsheets',\n",
    "             'https://www.googleapis.com/auth/drive'])\n",
    "        httpauth = credentials.authorize(httplib2.Http())\n",
    "        service = apiclient.discovery.build('sheets', 'v4', http=httpauth)\n",
    "\n",
    "        return service\n",
    "\n",
    "    @staticmethod\n",
    "    def put_values(self):\n",
    "        values = service.spreadsheets().values().batchUpdate(\n",
    "            spreadsheetId=spreadsheet_id,\n",
    "            body={\n",
    "                \"valueInputOption\": \"USER_ENTERED\",\n",
    "                \"data\": [\n",
    "                    {\"range\": \"Sheet1!A1:P\",\n",
    "                     \"majorDimension\":\"ROWS\",\n",
    "                     \"values\": result}\n",
    "                ]\n",
    "            }\n",
    "        ).execute()\n"
   ]
  },
  {
   "cell_type": "code",
   "execution_count": 26,
   "id": "legendary-moral",
   "metadata": {},
   "outputs": [],
   "source": [
    "r = Reporting()"
   ]
  },
  {
   "cell_type": "code",
   "execution_count": 27,
   "id": "several-bones",
   "metadata": {},
   "outputs": [],
   "source": [
    "# Вызовем авторизацию \n",
    "service = r.auth()"
   ]
  },
  {
   "cell_type": "code",
   "execution_count": 28,
   "id": "amino-wyoming",
   "metadata": {},
   "outputs": [],
   "source": [
    "# Объект перед отправкой по сети должен поддерживать сериализацию. \n",
    "# К сожалению pd DataFrame ее не поддерживает, но мы можем извлечь значения\n",
    "\n",
    "result = result.values.tolist()"
   ]
  },
  {
   "cell_type": "code",
   "execution_count": 29,
   "id": "early-clinton",
   "metadata": {},
   "outputs": [],
   "source": [
    "# вызов метода put_values вставит объект result в нужную гугл-таблицу\n",
    "r.put_values(r)"
   ]
  },
  {
   "cell_type": "markdown",
   "id": "sharing-indian",
   "metadata": {},
   "source": [
    "https://docs.google.com/spreadsheets/d/1BIJukq0TZt0RBi5JvjR3WGk3To1T-uZ3s3gNgfsydog/edit?usp=sharing"
   ]
  }
 ],
 "metadata": {
  "kernelspec": {
   "display_name": "Python 3",
   "language": "python",
   "name": "python3"
  },
  "language_info": {
   "codemirror_mode": {
    "name": "ipython",
    "version": 3
   },
   "file_extension": ".py",
   "mimetype": "text/x-python",
   "name": "python",
   "nbconvert_exporter": "python",
   "pygments_lexer": "ipython3",
   "version": "3.8.5"
  }
 },
 "nbformat": 4,
 "nbformat_minor": 5
}
