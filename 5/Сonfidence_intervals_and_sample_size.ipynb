{
 "cells": [
  {
   "cell_type": "markdown",
   "id": "complicated-discretion",
   "metadata": {},
   "source": [
    "# Доверительные интервалы и объем выборки\n",
    "\n",
    "### Задача 1\n",
    "\n",
    "* В вашей организации установлена некая система, которая считает доходность с каждого пользователя. Вы провели А/В тест с целью увеличить доход в двух группах variant и control. В приложенном excel файле ты найдешь сырые данные по результатам эксперимента (user_id), тип выборки (variant_name) и доход, принесенный пользователем (revenue). Проанализируйте результаты. С какой долей уверенности можно сказать, что доход изменился, достаточно ли данных для этого? Какой объем выборки нам необходим, чтобы мы могли сказать с 95% уверенностью, что доход вырос.  "
   ]
  },
  {
   "cell_type": "code",
   "execution_count": 1,
   "id": "instructional-eclipse",
   "metadata": {},
   "outputs": [],
   "source": [
    "import pandas as pd\n",
    "import numpy as np"
   ]
  },
  {
   "cell_type": "code",
   "execution_count": 25,
   "id": "female-thomas",
   "metadata": {},
   "outputs": [
    {
     "name": "stderr",
     "output_type": "stream",
     "text": [
      "C:\\Users\\User\\miniconda3\\lib\\site-packages\\openpyxl\\worksheet\\_reader.py:312: UserWarning: Unknown extension is not supported and will be removed\n",
      "  warn(msg)\n"
     ]
    },
    {
     "data": {
      "text/html": [
       "<div>\n",
       "<style scoped>\n",
       "    .dataframe tbody tr th:only-of-type {\n",
       "        vertical-align: middle;\n",
       "    }\n",
       "\n",
       "    .dataframe tbody tr th {\n",
       "        vertical-align: top;\n",
       "    }\n",
       "\n",
       "    .dataframe thead th {\n",
       "        text-align: right;\n",
       "    }\n",
       "</style>\n",
       "<table border=\"1\" class=\"dataframe\">\n",
       "  <thead>\n",
       "    <tr style=\"text-align: right;\">\n",
       "      <th></th>\n",
       "      <th>USER_ID</th>\n",
       "      <th>VARIANT_NAME</th>\n",
       "      <th>REVENUE</th>\n",
       "    </tr>\n",
       "  </thead>\n",
       "  <tbody>\n",
       "    <tr>\n",
       "      <th>0</th>\n",
       "      <td>737</td>\n",
       "      <td>variant</td>\n",
       "      <td>0.0</td>\n",
       "    </tr>\n",
       "    <tr>\n",
       "      <th>1</th>\n",
       "      <td>2423</td>\n",
       "      <td>control</td>\n",
       "      <td>0.0</td>\n",
       "    </tr>\n",
       "    <tr>\n",
       "      <th>2</th>\n",
       "      <td>9411</td>\n",
       "      <td>control</td>\n",
       "      <td>0.0</td>\n",
       "    </tr>\n",
       "    <tr>\n",
       "      <th>3</th>\n",
       "      <td>7311</td>\n",
       "      <td>control</td>\n",
       "      <td>0.0</td>\n",
       "    </tr>\n",
       "    <tr>\n",
       "      <th>4</th>\n",
       "      <td>6174</td>\n",
       "      <td>variant</td>\n",
       "      <td>0.0</td>\n",
       "    </tr>\n",
       "    <tr>\n",
       "      <th>5</th>\n",
       "      <td>2380</td>\n",
       "      <td>variant</td>\n",
       "      <td>0.0</td>\n",
       "    </tr>\n",
       "    <tr>\n",
       "      <th>6</th>\n",
       "      <td>2849</td>\n",
       "      <td>control</td>\n",
       "      <td>0.0</td>\n",
       "    </tr>\n",
       "    <tr>\n",
       "      <th>7</th>\n",
       "      <td>9168</td>\n",
       "      <td>control</td>\n",
       "      <td>0.0</td>\n",
       "    </tr>\n",
       "    <tr>\n",
       "      <th>8</th>\n",
       "      <td>6205</td>\n",
       "      <td>variant</td>\n",
       "      <td>0.0</td>\n",
       "    </tr>\n",
       "    <tr>\n",
       "      <th>9</th>\n",
       "      <td>7548</td>\n",
       "      <td>control</td>\n",
       "      <td>0.0</td>\n",
       "    </tr>\n",
       "  </tbody>\n",
       "</table>\n",
       "</div>"
      ],
      "text/plain": [
       "   USER_ID VARIANT_NAME  REVENUE\n",
       "0      737      variant      0.0\n",
       "1     2423      control      0.0\n",
       "2     9411      control      0.0\n",
       "3     7311      control      0.0\n",
       "4     6174      variant      0.0\n",
       "5     2380      variant      0.0\n",
       "6     2849      control      0.0\n",
       "7     9168      control      0.0\n",
       "8     6205      variant      0.0\n",
       "9     7548      control      0.0"
      ]
     },
     "execution_count": 25,
     "metadata": {},
     "output_type": "execute_result"
    }
   ],
   "source": [
    "df = pd.read_excel('AB_Test_Results.xlsx')\n",
    "\n",
    "df.head(10)"
   ]
  },
  {
   "cell_type": "code",
   "execution_count": 3,
   "id": "conscious-easter",
   "metadata": {},
   "outputs": [
    {
     "data": {
      "text/html": [
       "<div>\n",
       "<style scoped>\n",
       "    .dataframe tbody tr th:only-of-type {\n",
       "        vertical-align: middle;\n",
       "    }\n",
       "\n",
       "    .dataframe tbody tr th {\n",
       "        vertical-align: top;\n",
       "    }\n",
       "\n",
       "    .dataframe thead th {\n",
       "        text-align: right;\n",
       "    }\n",
       "</style>\n",
       "<table border=\"1\" class=\"dataframe\">\n",
       "  <thead>\n",
       "    <tr style=\"text-align: right;\">\n",
       "      <th></th>\n",
       "      <th>USER_ID</th>\n",
       "      <th>VARIANT_NAME</th>\n",
       "      <th>REVENUE</th>\n",
       "    </tr>\n",
       "  </thead>\n",
       "  <tbody>\n",
       "    <tr>\n",
       "      <th>9990</th>\n",
       "      <td>4883</td>\n",
       "      <td>variant</td>\n",
       "      <td>0.0</td>\n",
       "    </tr>\n",
       "    <tr>\n",
       "      <th>9991</th>\n",
       "      <td>8864</td>\n",
       "      <td>variant</td>\n",
       "      <td>0.0</td>\n",
       "    </tr>\n",
       "    <tr>\n",
       "      <th>9992</th>\n",
       "      <td>9303</td>\n",
       "      <td>variant</td>\n",
       "      <td>0.0</td>\n",
       "    </tr>\n",
       "    <tr>\n",
       "      <th>9993</th>\n",
       "      <td>2400</td>\n",
       "      <td>variant</td>\n",
       "      <td>0.0</td>\n",
       "    </tr>\n",
       "    <tr>\n",
       "      <th>9994</th>\n",
       "      <td>3129</td>\n",
       "      <td>control</td>\n",
       "      <td>0.0</td>\n",
       "    </tr>\n",
       "    <tr>\n",
       "      <th>9995</th>\n",
       "      <td>1981</td>\n",
       "      <td>control</td>\n",
       "      <td>0.0</td>\n",
       "    </tr>\n",
       "    <tr>\n",
       "      <th>9996</th>\n",
       "      <td>502</td>\n",
       "      <td>variant</td>\n",
       "      <td>0.0</td>\n",
       "    </tr>\n",
       "    <tr>\n",
       "      <th>9997</th>\n",
       "      <td>9214</td>\n",
       "      <td>variant</td>\n",
       "      <td>0.0</td>\n",
       "    </tr>\n",
       "    <tr>\n",
       "      <th>9998</th>\n",
       "      <td>7741</td>\n",
       "      <td>control</td>\n",
       "      <td>0.0</td>\n",
       "    </tr>\n",
       "    <tr>\n",
       "      <th>9999</th>\n",
       "      <td>9468</td>\n",
       "      <td>control</td>\n",
       "      <td>0.0</td>\n",
       "    </tr>\n",
       "  </tbody>\n",
       "</table>\n",
       "</div>"
      ],
      "text/plain": [
       "      USER_ID VARIANT_NAME  REVENUE\n",
       "9990     4883      variant      0.0\n",
       "9991     8864      variant      0.0\n",
       "9992     9303      variant      0.0\n",
       "9993     2400      variant      0.0\n",
       "9994     3129      control      0.0\n",
       "9995     1981      control      0.0\n",
       "9996      502      variant      0.0\n",
       "9997     9214      variant      0.0\n",
       "9998     7741      control      0.0\n",
       "9999     9468      control      0.0"
      ]
     },
     "execution_count": 3,
     "metadata": {},
     "output_type": "execute_result"
    }
   ],
   "source": [
    "df.tail(10)"
   ]
  },
  {
   "cell_type": "code",
   "execution_count": 4,
   "id": "vocal-mathematics",
   "metadata": {},
   "outputs": [
    {
     "data": {
      "text/plain": [
       "USER_ID           int64\n",
       "VARIANT_NAME     object\n",
       "REVENUE         float64\n",
       "dtype: object"
      ]
     },
     "execution_count": 4,
     "metadata": {},
     "output_type": "execute_result"
    }
   ],
   "source": [
    "# Проверим, что типы данных открылись корректно\n",
    "df.dtypes"
   ]
  },
  {
   "cell_type": "code",
   "execution_count": 5,
   "id": "deluxe-nigeria",
   "metadata": {},
   "outputs": [
    {
     "data": {
      "text/plain": [
       "False"
      ]
     },
     "execution_count": 5,
     "metadata": {},
     "output_type": "execute_result"
    }
   ],
   "source": [
    "# Проверим наличие пустых значений\n",
    "df.isnull().values.any()"
   ]
  },
  {
   "cell_type": "code",
   "execution_count": 6,
   "id": "perfect-intelligence",
   "metadata": {},
   "outputs": [
    {
     "data": {
      "text/plain": [
       "0       False\n",
       "1       False\n",
       "2       False\n",
       "3       False\n",
       "4       False\n",
       "        ...  \n",
       "9995     True\n",
       "9996    False\n",
       "9997     True\n",
       "9998    False\n",
       "9999    False\n",
       "Length: 10000, dtype: bool"
      ]
     },
     "execution_count": 6,
     "metadata": {},
     "output_type": "execute_result"
    }
   ],
   "source": [
    "# Проверим наличие дублей в USER_ID\n",
    "df.duplicated(subset=['USER_ID'])"
   ]
  },
  {
   "cell_type": "code",
   "execution_count": 7,
   "id": "conditional-grave",
   "metadata": {},
   "outputs": [
    {
     "data": {
      "text/html": [
       "<div>\n",
       "<style scoped>\n",
       "    .dataframe tbody tr th:only-of-type {\n",
       "        vertical-align: middle;\n",
       "    }\n",
       "\n",
       "    .dataframe tbody tr th {\n",
       "        vertical-align: top;\n",
       "    }\n",
       "\n",
       "    .dataframe thead th {\n",
       "        text-align: right;\n",
       "    }\n",
       "</style>\n",
       "<table border=\"1\" class=\"dataframe\">\n",
       "  <thead>\n",
       "    <tr style=\"text-align: right;\">\n",
       "      <th></th>\n",
       "      <th>USER_ID</th>\n",
       "      <th>VARIANT_NAME</th>\n",
       "      <th>REVENUE</th>\n",
       "    </tr>\n",
       "  </thead>\n",
       "  <tbody>\n",
       "    <tr>\n",
       "      <th>2342</th>\n",
       "      <td>9214</td>\n",
       "      <td>variant</td>\n",
       "      <td>0.0</td>\n",
       "    </tr>\n",
       "    <tr>\n",
       "      <th>6505</th>\n",
       "      <td>9214</td>\n",
       "      <td>control</td>\n",
       "      <td>0.0</td>\n",
       "    </tr>\n",
       "    <tr>\n",
       "      <th>9997</th>\n",
       "      <td>9214</td>\n",
       "      <td>variant</td>\n",
       "      <td>0.0</td>\n",
       "    </tr>\n",
       "  </tbody>\n",
       "</table>\n",
       "</div>"
      ],
      "text/plain": [
       "      USER_ID VARIANT_NAME  REVENUE\n",
       "2342     9214      variant      0.0\n",
       "6505     9214      control      0.0\n",
       "9997     9214      variant      0.0"
      ]
     },
     "execution_count": 7,
     "metadata": {},
     "output_type": "execute_result"
    }
   ],
   "source": [
    "df[df['USER_ID'] == 9214]"
   ]
  },
  {
   "cell_type": "code",
   "execution_count": 8,
   "id": "political-macedonia",
   "metadata": {},
   "outputs": [
    {
     "data": {
      "text/plain": [
       "USER_ID\n",
       "9101       6\n",
       "668        6\n",
       "5652       6\n",
       "8359       6\n",
       "4879       6\n",
       "          ..\n",
       "4682       1\n",
       "4684       1\n",
       "4687       1\n",
       "4689       1\n",
       "5525       1\n",
       "Length: 6324, dtype: int64"
      ]
     },
     "execution_count": 8,
     "metadata": {},
     "output_type": "execute_result"
    }
   ],
   "source": [
    "df.value_counts(subset=['USER_ID'])"
   ]
  },
  {
   "cell_type": "markdown",
   "id": "thirty-worcester",
   "metadata": {},
   "source": [
    "### Подитог\n",
    "\n",
    "Часть USER_ID повторяются и присутствуют в обеих выборках (variant / control). Не очень понятно как это трактовать в контексте A/B теста, является ли это ошибкой и если нет, то как для \"смешанных\" пользователей записывается Revenue. Влияет ли как-то попадание пользователя в обе группы на приносимый им Revenue. Если да, то как. \n",
    "\n",
    "В реальности это повод запросить уточнение и\\или провести дополнительные разбирательства. В рамках этого задания просто будем считать эти данные испорченными и не будем на них обращать внимание дальше. "
   ]
  },
  {
   "cell_type": "code",
   "execution_count": 10,
   "id": "guilty-perth",
   "metadata": {},
   "outputs": [
    {
     "data": {
      "text/plain": [
       "10000"
      ]
     },
     "execution_count": 10,
     "metadata": {},
     "output_type": "execute_result"
    }
   ],
   "source": [
    "len(df)"
   ]
  },
  {
   "cell_type": "code",
   "execution_count": 11,
   "id": "needed-onion",
   "metadata": {},
   "outputs": [],
   "source": [
    "df_dd = df.drop_duplicates(subset=['USER_ID'], keep=False)"
   ]
  },
  {
   "cell_type": "code",
   "execution_count": 12,
   "id": "confused-fraction",
   "metadata": {},
   "outputs": [
    {
     "data": {
      "text/plain": [
       "3664"
      ]
     },
     "execution_count": 12,
     "metadata": {},
     "output_type": "execute_result"
    }
   ],
   "source": [
    "len(df_dd)"
   ]
  },
  {
   "cell_type": "code",
   "execution_count": 14,
   "id": "exact-prevention",
   "metadata": {},
   "outputs": [
    {
     "data": {
      "text/html": [
       "<div>\n",
       "<style scoped>\n",
       "    .dataframe tbody tr th:only-of-type {\n",
       "        vertical-align: middle;\n",
       "    }\n",
       "\n",
       "    .dataframe tbody tr th {\n",
       "        vertical-align: top;\n",
       "    }\n",
       "\n",
       "    .dataframe thead th {\n",
       "        text-align: right;\n",
       "    }\n",
       "</style>\n",
       "<table border=\"1\" class=\"dataframe\">\n",
       "  <thead>\n",
       "    <tr style=\"text-align: right;\">\n",
       "      <th></th>\n",
       "      <th>USER_ID</th>\n",
       "      <th>REVENUE</th>\n",
       "    </tr>\n",
       "    <tr>\n",
       "      <th>VARIANT_NAME</th>\n",
       "      <th></th>\n",
       "      <th></th>\n",
       "    </tr>\n",
       "  </thead>\n",
       "  <tbody>\n",
       "    <tr>\n",
       "      <th>control</th>\n",
       "      <td>1834</td>\n",
       "      <td>1834</td>\n",
       "    </tr>\n",
       "    <tr>\n",
       "      <th>variant</th>\n",
       "      <td>1830</td>\n",
       "      <td>1830</td>\n",
       "    </tr>\n",
       "  </tbody>\n",
       "</table>\n",
       "</div>"
      ],
      "text/plain": [
       "              USER_ID  REVENUE\n",
       "VARIANT_NAME                  \n",
       "control          1834     1834\n",
       "variant          1830     1830"
      ]
     },
     "execution_count": 14,
     "metadata": {},
     "output_type": "execute_result"
    }
   ],
   "source": [
    "df_dd.groupby(['VARIANT_NAME']).count()"
   ]
  },
  {
   "cell_type": "code",
   "execution_count": 13,
   "id": "proud-equilibrium",
   "metadata": {},
   "outputs": [
    {
     "data": {
      "text/html": [
       "<div>\n",
       "<style scoped>\n",
       "    .dataframe tbody tr th:only-of-type {\n",
       "        vertical-align: middle;\n",
       "    }\n",
       "\n",
       "    .dataframe tbody tr th {\n",
       "        vertical-align: top;\n",
       "    }\n",
       "\n",
       "    .dataframe thead th {\n",
       "        text-align: right;\n",
       "    }\n",
       "</style>\n",
       "<table border=\"1\" class=\"dataframe\">\n",
       "  <thead>\n",
       "    <tr style=\"text-align: right;\">\n",
       "      <th></th>\n",
       "      <th>USER_ID</th>\n",
       "      <th>REVENUE</th>\n",
       "    </tr>\n",
       "    <tr>\n",
       "      <th>VARIANT_NAME</th>\n",
       "      <th></th>\n",
       "      <th></th>\n",
       "    </tr>\n",
       "  </thead>\n",
       "  <tbody>\n",
       "    <tr>\n",
       "      <th>control</th>\n",
       "      <td>5049.845692</td>\n",
       "      <td>0.182694</td>\n",
       "    </tr>\n",
       "    <tr>\n",
       "      <th>variant</th>\n",
       "      <td>4966.748087</td>\n",
       "      <td>0.066563</td>\n",
       "    </tr>\n",
       "  </tbody>\n",
       "</table>\n",
       "</div>"
      ],
      "text/plain": [
       "                  USER_ID   REVENUE\n",
       "VARIANT_NAME                       \n",
       "control       5049.845692  0.182694\n",
       "variant       4966.748087  0.066563"
      ]
     },
     "execution_count": 13,
     "metadata": {},
     "output_type": "execute_result"
    }
   ],
   "source": [
    "df_dd.groupby(['VARIANT_NAME']).mean()"
   ]
  },
  {
   "cell_type": "code",
   "execution_count": 26,
   "id": "collect-currency",
   "metadata": {},
   "outputs": [],
   "source": [
    "variant_mean = 0.066563\n",
    "control_mean = 0.182694"
   ]
  },
  {
   "cell_type": "code",
   "execution_count": 27,
   "id": "fundamental-sample",
   "metadata": {},
   "outputs": [
    {
     "data": {
      "text/html": [
       "<div>\n",
       "<style scoped>\n",
       "    .dataframe tbody tr th:only-of-type {\n",
       "        vertical-align: middle;\n",
       "    }\n",
       "\n",
       "    .dataframe tbody tr th {\n",
       "        vertical-align: top;\n",
       "    }\n",
       "\n",
       "    .dataframe thead th {\n",
       "        text-align: right;\n",
       "    }\n",
       "</style>\n",
       "<table border=\"1\" class=\"dataframe\">\n",
       "  <thead>\n",
       "    <tr style=\"text-align: right;\">\n",
       "      <th></th>\n",
       "      <th>USER_ID</th>\n",
       "      <th>REVENUE</th>\n",
       "    </tr>\n",
       "    <tr>\n",
       "      <th>VARIANT_NAME</th>\n",
       "      <th></th>\n",
       "      <th></th>\n",
       "    </tr>\n",
       "  </thead>\n",
       "  <tbody>\n",
       "    <tr>\n",
       "      <th>control</th>\n",
       "      <td>9261417</td>\n",
       "      <td>335.06</td>\n",
       "    </tr>\n",
       "    <tr>\n",
       "      <th>variant</th>\n",
       "      <td>9089149</td>\n",
       "      <td>121.81</td>\n",
       "    </tr>\n",
       "  </tbody>\n",
       "</table>\n",
       "</div>"
      ],
      "text/plain": [
       "              USER_ID  REVENUE\n",
       "VARIANT_NAME                  \n",
       "control       9261417   335.06\n",
       "variant       9089149   121.81"
      ]
     },
     "execution_count": 27,
     "metadata": {},
     "output_type": "execute_result"
    }
   ],
   "source": [
    "df_dd.groupby(['VARIANT_NAME']).sum()"
   ]
  },
  {
   "cell_type": "code",
   "execution_count": 28,
   "id": "golden-growing",
   "metadata": {},
   "outputs": [],
   "source": [
    "df_dd_va = df_dd[df_dd['VARIANT_NAME'] == 'variant'] #1830\n",
    "df_dd_co = df_dd[df_dd['VARIANT_NAME'] == 'control'] #1834"
   ]
  },
  {
   "cell_type": "code",
   "execution_count": 29,
   "id": "different-sixth",
   "metadata": {},
   "outputs": [],
   "source": [
    "from statsmodels.stats.weightstats import _zconfint_generic, _tconfint_generic"
   ]
  },
  {
   "cell_type": "code",
   "execution_count": 30,
   "id": "basic-forth",
   "metadata": {},
   "outputs": [],
   "source": [
    "variant_mean_std = df_dd_va['REVENUE'].std(ddof=1)/np.sqrt(len(df_dd_va))"
   ]
  },
  {
   "cell_type": "code",
   "execution_count": 31,
   "id": "healthy-obligation",
   "metadata": {},
   "outputs": [
    {
     "data": {
      "text/plain": [
       "0.02063481959392742"
      ]
     },
     "execution_count": 31,
     "metadata": {},
     "output_type": "execute_result"
    }
   ],
   "source": [
    "variant_mean_std"
   ]
  },
  {
   "cell_type": "code",
   "execution_count": 19,
   "id": "packed-behalf",
   "metadata": {},
   "outputs": [],
   "source": [
    "control_mean_std = df_dd_co['REVENUE'].std(ddof=1)/np.sqrt(len(df_dd_co))"
   ]
  },
  {
   "cell_type": "code",
   "execution_count": 32,
   "id": "printable-engagement",
   "metadata": {},
   "outputs": [
    {
     "data": {
      "text/plain": [
       "0.10865109018898764"
      ]
     },
     "execution_count": 32,
     "metadata": {},
     "output_type": "execute_result"
    }
   ],
   "source": [
    "control_mean_std"
   ]
  },
  {
   "cell_type": "markdown",
   "id": "going-birthday",
   "metadata": {},
   "source": [
    "Обратите внимание, что среднеквадратическое отклонение в control намного шире, чем в variant"
   ]
  },
  {
   "cell_type": "code",
   "execution_count": 20,
   "id": "arctic-equilibrium",
   "metadata": {},
   "outputs": [
    {
     "data": {
      "text/plain": [
       "(0.026092715331499275, 0.10703328466850072)"
      ]
     },
     "execution_count": 20,
     "metadata": {},
     "output_type": "execute_result"
    }
   ],
   "source": [
    "# 95% двусторонний доверительный интервал для среднего REVENUE по группе variant\n",
    "\n",
    "_tconfint_generic(variant_mean, \n",
    "                  variant_mean_std, \n",
    "                  len(df_dd_va) - 1,\n",
    "                  0.05, 'two-sided')"
   ]
  },
  {
   "cell_type": "code",
   "execution_count": 21,
   "id": "broad-dryer",
   "metadata": {},
   "outputs": [
    {
     "data": {
      "text/plain": [
       "(-0.03039893136648794, 0.3957869313664879)"
      ]
     },
     "execution_count": 21,
     "metadata": {},
     "output_type": "execute_result"
    }
   ],
   "source": [
    "# 95% двусторонний доверительный интервал для среднего REVENUE по группе control\n",
    "\n",
    "_tconfint_generic(control_mean, \n",
    "                  control_mean_std, \n",
    "                  len(df_dd_co) - 1,\n",
    "                  0.05, 'two-sided')"
   ]
  },
  {
   "cell_type": "markdown",
   "id": "duplicate-blame",
   "metadata": {},
   "source": [
    "Обратите внимание, как отличается доверительный интервал в двух выборках. Обратите внимание на отрезок пересечения двух интервалов. "
   ]
  },
  {
   "cell_type": "markdown",
   "id": "disciplinary-being",
   "metadata": {},
   "source": [
    "### Подитог \n",
    "\n",
    "На данной выборке среднее REVENUE выше в группе control на 0.1161. \n",
    "\n",
    "При этом 95% доверительные интервалы для среднего REVENUE выборок variant и control пересекаются на отрезке от 0 до 0.1070. \n",
    "\n",
    "Таким образом нельзя говорить о достоверной разнице средних REVENUE в двух выборках. \n",
    "\n",
    "Попробуем понять достоверную разницу для других вариантов доверительных интервалов, а также понять сколько нужно образцов для появления достоверного результата."
   ]
  },
  {
   "cell_type": "code",
   "execution_count": 22,
   "id": "linear-israel",
   "metadata": {},
   "outputs": [
    {
     "data": {
      "text/plain": [
       "(0.04727297887565986, 0.08585302112434014)"
      ]
     },
     "execution_count": 22,
     "metadata": {},
     "output_type": "execute_result"
    }
   ],
   "source": [
    "# 65% двусторонний доверительный интервал для среднего REVENUE по группе variant\n",
    "\n",
    "_tconfint_generic(variant_mean, \n",
    "                  variant_mean_std, \n",
    "                  len(df_dd_va) - 1,\n",
    "                  0.35, 'two-sided')"
   ]
  },
  {
   "cell_type": "code",
   "execution_count": 23,
   "id": "opposite-stocks",
   "metadata": {},
   "outputs": [
    {
     "data": {
      "text/plain": [
       "(0.08112390175477749, 0.2842640982452225)"
      ]
     },
     "execution_count": 23,
     "metadata": {},
     "output_type": "execute_result"
    }
   ],
   "source": [
    "# 65% двусторонний доверительный интервал для среднего REVENUE по группе control\n",
    "\n",
    "_tconfint_generic(control_mean, \n",
    "                  control_mean_std, \n",
    "                  len(df_dd_co) - 1,\n",
    "                  0.35, 'two-sided')"
   ]
  },
  {
   "cell_type": "markdown",
   "id": "crucial-reader",
   "metadata": {},
   "source": [
    "### Попробуем понять, какой нужен объем выборки, чтобы достоверно говорить о разности средних\n",
    "\n",
    "Вспомним формулу доверительного интервала для среднего нормально распределённой случайной величины с дисперсией $$\\sigma^2$$:\n",
    "\n",
    "$$\\bar{X}_n\\pm z_{1-\\frac{\\alpha}{2}} \\frac{\\sigma}{\\sqrt{n}}$$\n",
    "\n",
    "При σ=1 какой нужен объём выборки, чтобы на уровне доверия 95% оценить среднее с точностью ±0.01?\n"
   ]
  },
  {
   "cell_type": "code",
   "execution_count": 24,
   "id": "lasting-double",
   "metadata": {},
   "outputs": [
    {
     "data": {
      "text/plain": [
       "38415.0"
      ]
     },
     "execution_count": 24,
     "metadata": {},
     "output_type": "execute_result"
    }
   ],
   "source": [
    "from scipy import stats\n",
    "np.ceil((stats.norm.ppf(1-0.05/2) / 0.01)**2)"
   ]
  },
  {
   "cell_type": "markdown",
   "id": "affecting-thriller",
   "metadata": {},
   "source": [
    "Нам необходимо порядка 38400 образцов в двух выборках, чтобы с 95% уверенностью говорить о разнице средних с точностью 0,01"
   ]
  },
  {
   "cell_type": "code",
   "execution_count": null,
   "id": "accurate-appraisal",
   "metadata": {},
   "outputs": [],
   "source": []
  }
 ],
 "metadata": {
  "kernelspec": {
   "display_name": "Python 3",
   "language": "python",
   "name": "python3"
  },
  "language_info": {
   "codemirror_mode": {
    "name": "ipython",
    "version": 3
   },
   "file_extension": ".py",
   "mimetype": "text/x-python",
   "name": "python",
   "nbconvert_exporter": "python",
   "pygments_lexer": "ipython3",
   "version": "3.8.5"
  }
 },
 "nbformat": 4,
 "nbformat_minor": 5
}
